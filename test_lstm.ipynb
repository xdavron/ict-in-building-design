{
 "cells": [
  {
   "cell_type": "code",
   "execution_count": 166,
   "outputs": [],
   "source": [
    "import json\n",
    "\n",
    "import pandas as pd\n",
    "import numpy as np\n",
    "import matplotlib.pyplot as plt\n",
    "from tensorflow.keras.layers import LSTM, Dense,  Conv2D, MaxPooling2D, TimeDistributed, Flatten, InputLayer, Reshape, Conv1D, MaxPooling1D, Bidirectional, Dropout, ReLU\n",
    "from tensorflow.keras.models import Sequential, load_model\n",
    "\n",
    "from datetime import datetime\n",
    "import math\n"
   ],
   "metadata": {
    "collapsed": false,
    "pycharm": {
     "name": "#%%\n"
    }
   }
  },
  {
   "cell_type": "code",
   "execution_count": 167,
   "outputs": [],
   "source": [
    "regressands = [\n",
    "    'Temp_IN'\n",
    "]\n",
    "past_hours = 23\n",
    "next_hours = 1"
   ],
   "metadata": {
    "collapsed": false,
    "pycharm": {
     "name": "#%%\n"
    }
   }
  },
  {
   "cell_type": "code",
   "execution_count": 168,
   "outputs": [],
   "source": [
    "# Prepare testX\n",
    "# need df | day, month, year, hour, minute, temp_in, temp_in\n",
    "# normilize\n",
    "# then transform it to np\n",
    "\n",
    "# one input data\n",
    "# 0,0.0,0.0,0.0,0.043478,0.072202,0.072202\n",
    "# 1,0.0,0.0,0.0,0.086957,0.066289,0.066289\n",
    "# 2,0.0,0.0,0.0,0.130435,0.064159,0.064159\n",
    "# 3,0.0,0.0,0.0,0.173913,0.061994,0.061994\n",
    "# 4,0.0,0.0,0.0,0.217391,0.059685,0.059685\n",
    "# 5,0.0,0.0,0.0,0.260870,0.108498,0.108498\n",
    "# 6,0.0,0.0,0.0,0.304348,0.114032,0.114032\n",
    "# 7,0.0,0.0,0.0,0.347826,0.126575,0.126575\n",
    "# 8,0.0,0.0,0.0,0.391304,0.128928,0.128928\n",
    "# 9,0.0,0.0,0.0,0.434783,0.095168,0.095168\n",
    "# 10,0.0,0.0,0.0,0.478261,0.060939,0.060939\n",
    "# 11,0.0,0.0,0.0,0.521739,0.060734,0.060734\n",
    "# 12,0.0,0.0,0.0,0.565217,0.068019,0.068019\n",
    "# 13,0.0,0.0,0.0,0.608696,0.074625,0.074625\n",
    "# 14,0.0,0.0,0.0,0.652174,0.086410,0.086410\n",
    "# 15,0.0,0.0,0.0,0.695652,0.084667,0.084667\n",
    "# 16,0.0,0.0,0.0,0.739130,0.080095,0.080095\n",
    "# 17,0.0,0.0,0.0,0.782609,0.106779,0.106779\n",
    "# 18,0.0,0.0,0.0,0.826087,0.107742,0.107742\n",
    "# 19,0.0,0.0,0.0,0.869565,0.106584,0.106584\n",
    "# 20,0.000000,0.0,0.0,0.913043,0.144932,0.144932\n",
    "# 21,0.000000,0.0,0.0,0.956522,0.138724,0.138724\n",
    "# 22,0.000000,0.0,0.0,1.000000,0.137522,0.137522\n",
    "# 23,0.033333,0.0,0.0,0.000000,0.095741,0.095741"
   ],
   "metadata": {
    "collapsed": false,
    "pycharm": {
     "name": "#%%\n"
    }
   }
  },
  {
   "cell_type": "code",
   "execution_count": 169,
   "outputs": [
    {
     "name": "stdout",
     "output_type": "stream",
     "text": [
      "[{'timestamp': '2022-01-01 00:00:00', 'Temp_IN': 18.310977513229002}, {'timestamp': '2022-01-01 01:00:00', 'Temp_IN': 18.332358146811398}, {'timestamp': '2022-01-01 02:00:00', 'Temp_IN': 18.344347631993106}, {'timestamp': '2022-01-01 03:00:00', 'Temp_IN': 18.35153878532741}, {'timestamp': '2022-01-01 04:00:00', 'Temp_IN': 18.357649741329368}, {'timestamp': '2022-01-01 05:00:00', 'Temp_IN': 18.363555632811664}, {'timestamp': '2022-01-01 06:00:00', 'Temp_IN': 18.368718077672998}, {'timestamp': '2022-01-01 07:00:00', 'Temp_IN': 18.376636572869266}, {'timestamp': '2022-01-01 08:00:00', 'Temp_IN': 18.402579350463228}, {'timestamp': '2022-01-01 09:00:00', 'Temp_IN': 18.423353007566863}, {'timestamp': '2022-01-01 10:00:00', 'Temp_IN': 16.564161288504277}, {'timestamp': '2022-01-01 11:00:00', 'Temp_IN': 16.13886085423967}, {'timestamp': '2022-01-01 12:00:00', 'Temp_IN': 16.109840241789254}, {'timestamp': '2022-01-01 13:00:00', 'Temp_IN': 16.104072412111236}, {'timestamp': '2022-01-01 14:00:00', 'Temp_IN': 16.09740126427188}, {'timestamp': '2022-01-01 15:00:00', 'Temp_IN': 16.072880744951213}, {'timestamp': '2022-01-01 16:00:00', 'Temp_IN': 16.03239033058315}, {'timestamp': '2022-01-01 17:00:00', 'Temp_IN': 15.98055813927575}, {'timestamp': '2022-01-01 18:00:00', 'Temp_IN': 15.922795937816876}, {'timestamp': '2022-01-01 19:00:00', 'Temp_IN': 15.869823335370267}, {'timestamp': '2022-01-01 20:00:00', 'Temp_IN': 15.830418066303494}, {'timestamp': '2022-01-01 21:00:00', 'Temp_IN': 17.9577305205219}, {'timestamp': '2022-01-01 22:00:00', 'Temp_IN': 18.169495168975807}, {'timestamp': '2022-01-01 23:00:00', 'Temp_IN': 18.238092718501353}, {'timestamp': '2022-01-02 00:00:00', 'Temp_IN': 18.28478985090857}, {'timestamp': '2022-01-02 01:00:00', 'Temp_IN': 18.320858421547424}, {'timestamp': '2022-01-02 02:00:00', 'Temp_IN': 18.344810860507728}, {'timestamp': '2022-01-02 03:00:00', 'Temp_IN': 18.36013149884241}, {'timestamp': '2022-01-02 04:00:00', 'Temp_IN': 18.370914390271142}, {'timestamp': '2022-01-02 05:00:00', 'Temp_IN': 18.379596843249946}, {'timestamp': '2022-01-02 06:00:00', 'Temp_IN': 18.38757169719456}, {'timestamp': '2022-01-02 07:00:00', 'Temp_IN': 18.39939777151869}, {'timestamp': '2022-01-02 08:00:00', 'Temp_IN': 18.430712815346006}, {'timestamp': '2022-01-02 09:00:00', 'Temp_IN': 18.45586407227604}, {'timestamp': '2022-01-02 10:00:00', 'Temp_IN': 16.590304109737733}, {'timestamp': '2022-01-02 11:00:00', 'Temp_IN': 16.14601820096563}, {'timestamp': '2022-01-02 12:00:00', 'Temp_IN': 16.08567167019617}, {'timestamp': '2022-01-02 13:00:00', 'Temp_IN': 16.047649399229428}, {'timestamp': '2022-01-02 14:00:00', 'Temp_IN': 16.015263017969072}, {'timestamp': '2022-01-02 15:00:00', 'Temp_IN': 15.977260983307461}, {'timestamp': '2022-01-02 16:00:00', 'Temp_IN': 15.932563994495089}, {'timestamp': '2022-01-02 17:00:00', 'Temp_IN': 15.88807861996613}, {'timestamp': '2022-01-02 18:00:00', 'Temp_IN': 15.844315767853669}, {'timestamp': '2022-01-02 19:00:00', 'Temp_IN': 15.80526045352977}, {'timestamp': '2022-01-02 20:00:00', 'Temp_IN': 15.7747666008247}, {'timestamp': '2022-01-02 21:00:00', 'Temp_IN': 17.906196677397148}, {'timestamp': '2022-01-02 22:00:00', 'Temp_IN': 18.12492648424005}, {'timestamp': '2022-01-02 23:00:00', 'Temp_IN': 18.19472915978117}, {'timestamp': '2022-01-03 00:00:00', 'Temp_IN': 18.241408662661158}, {'timestamp': '2022-01-03 01:00:00', 'Temp_IN': 18.27564182706816}, {'timestamp': '2022-01-03 02:00:00', 'Temp_IN': 18.29591398456811}]\n"
     ]
    }
   ],
   "source": [
    "f = open('sample.json')\n",
    "sample_json = json.load(f)\n",
    "data=[]\n",
    "for item in sample_json['data']:\n",
    "    # print(item)\n",
    "    d = {'timestamp': item['time_stamp'], 'Temp_IN': item['value']}\n",
    "    data.append(d)\n",
    "print(data)"
   ],
   "metadata": {
    "collapsed": false,
    "pycharm": {
     "name": "#%%\n"
    }
   }
  },
  {
   "cell_type": "code",
   "execution_count": 170,
   "outputs": [
    {
     "data": {
      "text/plain": "             timestamp    Temp_IN\n0  2022-01-02 02:00:00  18.344811\n1  2022-01-02 03:00:00  18.360131\n2  2022-01-02 04:00:00  18.370914\n3  2022-01-02 05:00:00  18.379597\n4  2022-01-02 06:00:00  18.387572",
      "text/html": "<div>\n<style scoped>\n    .dataframe tbody tr th:only-of-type {\n        vertical-align: middle;\n    }\n\n    .dataframe tbody tr th {\n        vertical-align: top;\n    }\n\n    .dataframe thead th {\n        text-align: right;\n    }\n</style>\n<table border=\"1\" class=\"dataframe\">\n  <thead>\n    <tr style=\"text-align: right;\">\n      <th></th>\n      <th>timestamp</th>\n      <th>Temp_IN</th>\n    </tr>\n  </thead>\n  <tbody>\n    <tr>\n      <th>0</th>\n      <td>2022-01-02 02:00:00</td>\n      <td>18.344811</td>\n    </tr>\n    <tr>\n      <th>1</th>\n      <td>2022-01-02 03:00:00</td>\n      <td>18.360131</td>\n    </tr>\n    <tr>\n      <th>2</th>\n      <td>2022-01-02 04:00:00</td>\n      <td>18.370914</td>\n    </tr>\n    <tr>\n      <th>3</th>\n      <td>2022-01-02 05:00:00</td>\n      <td>18.379597</td>\n    </tr>\n    <tr>\n      <th>4</th>\n      <td>2022-01-02 06:00:00</td>\n      <td>18.387572</td>\n    </tr>\n  </tbody>\n</table>\n</div>"
     },
     "execution_count": 170,
     "metadata": {},
     "output_type": "execute_result"
    }
   ],
   "source": [
    "df = pd.DataFrame(data[-25:])\n",
    "df.head()"
   ],
   "metadata": {
    "collapsed": false,
    "pycharm": {
     "name": "#%%\n"
    }
   }
  },
  {
   "cell_type": "code",
   "execution_count": 171,
   "outputs": [],
   "source": [
    "ts = []\n",
    "for item in df['timestamp']:\n",
    "    # print(item)\n",
    "    datetime_object = datetime.strptime(item, '%Y-%m-%d %H:%M:%S')\n",
    "    ts.append(datetime_object)\n",
    "# print(ts)\n",
    "\n",
    "df['timestamp'] = pd.to_datetime(ts, format='%m/%d/%Y %H:%M:%S')\n"
   ],
   "metadata": {
    "collapsed": false,
    "pycharm": {
     "name": "#%%\n"
    }
   }
  },
  {
   "cell_type": "code",
   "execution_count": 172,
   "outputs": [
    {
     "data": {
      "text/plain": "   day  month  year  hour  minute    Temp_IN\n0    2      1  2022     2       0  18.344811\n1    2      1  2022     3       0  18.360131\n2    2      1  2022     4       0  18.370914\n3    2      1  2022     5       0  18.379597\n4    2      1  2022     6       0  18.387572",
      "text/html": "<div>\n<style scoped>\n    .dataframe tbody tr th:only-of-type {\n        vertical-align: middle;\n    }\n\n    .dataframe tbody tr th {\n        vertical-align: top;\n    }\n\n    .dataframe thead th {\n        text-align: right;\n    }\n</style>\n<table border=\"1\" class=\"dataframe\">\n  <thead>\n    <tr style=\"text-align: right;\">\n      <th></th>\n      <th>day</th>\n      <th>month</th>\n      <th>year</th>\n      <th>hour</th>\n      <th>minute</th>\n      <th>Temp_IN</th>\n    </tr>\n  </thead>\n  <tbody>\n    <tr>\n      <th>0</th>\n      <td>2</td>\n      <td>1</td>\n      <td>2022</td>\n      <td>2</td>\n      <td>0</td>\n      <td>18.344811</td>\n    </tr>\n    <tr>\n      <th>1</th>\n      <td>2</td>\n      <td>1</td>\n      <td>2022</td>\n      <td>3</td>\n      <td>0</td>\n      <td>18.360131</td>\n    </tr>\n    <tr>\n      <th>2</th>\n      <td>2</td>\n      <td>1</td>\n      <td>2022</td>\n      <td>4</td>\n      <td>0</td>\n      <td>18.370914</td>\n    </tr>\n    <tr>\n      <th>3</th>\n      <td>2</td>\n      <td>1</td>\n      <td>2022</td>\n      <td>5</td>\n      <td>0</td>\n      <td>18.379597</td>\n    </tr>\n    <tr>\n      <th>4</th>\n      <td>2</td>\n      <td>1</td>\n      <td>2022</td>\n      <td>6</td>\n      <td>0</td>\n      <td>18.387572</td>\n    </tr>\n  </tbody>\n</table>\n</div>"
     },
     "execution_count": 172,
     "metadata": {},
     "output_type": "execute_result"
    }
   ],
   "source": [
    "\n",
    "days = []\n",
    "months = []\n",
    "years = []\n",
    "hours = []\n",
    "minutes = []\n",
    "for timestamp in df['timestamp']:\n",
    "    days.append(timestamp.day)\n",
    "    months.append(timestamp.month)\n",
    "    years.append(timestamp.year)\n",
    "    hours.append(timestamp.hour)\n",
    "    minutes.append(timestamp.minute)\n",
    "\n",
    "new_df = pd.DataFrame()\n",
    "new_df['day'] = days\n",
    "new_df['month'] = months\n",
    "new_df['year'] = years\n",
    "new_df['hour'] = hours\n",
    "new_df['minute'] = minutes\n",
    "new_df.index = df.index\n",
    "new_df['Temp_IN'] = df['Temp_IN']\n",
    "new_df.head()"
   ],
   "metadata": {
    "collapsed": false,
    "pycharm": {
     "name": "#%%\n"
    }
   }
  },
  {
   "cell_type": "code",
   "execution_count": 173,
   "outputs": [
    {
     "data": {
      "text/plain": "   day  month    year  hour  minute    Temp_IN\n0  2.0    1.0  2022.0   2.0     0.0  18.344810\n1  2.0    1.0  2022.0   3.0     0.0  18.360132\n2  2.0    1.0  2022.0   4.0     0.0  18.370914\n3  2.0    1.0  2022.0   5.0     0.0  18.379597\n4  2.0    1.0  2022.0   6.0     0.0  18.387571",
      "text/html": "<div>\n<style scoped>\n    .dataframe tbody tr th:only-of-type {\n        vertical-align: middle;\n    }\n\n    .dataframe tbody tr th {\n        vertical-align: top;\n    }\n\n    .dataframe thead th {\n        text-align: right;\n    }\n</style>\n<table border=\"1\" class=\"dataframe\">\n  <thead>\n    <tr style=\"text-align: right;\">\n      <th></th>\n      <th>day</th>\n      <th>month</th>\n      <th>year</th>\n      <th>hour</th>\n      <th>minute</th>\n      <th>Temp_IN</th>\n    </tr>\n  </thead>\n  <tbody>\n    <tr>\n      <th>0</th>\n      <td>2.0</td>\n      <td>1.0</td>\n      <td>2022.0</td>\n      <td>2.0</td>\n      <td>0.0</td>\n      <td>18.344810</td>\n    </tr>\n    <tr>\n      <th>1</th>\n      <td>2.0</td>\n      <td>1.0</td>\n      <td>2022.0</td>\n      <td>3.0</td>\n      <td>0.0</td>\n      <td>18.360132</td>\n    </tr>\n    <tr>\n      <th>2</th>\n      <td>2.0</td>\n      <td>1.0</td>\n      <td>2022.0</td>\n      <td>4.0</td>\n      <td>0.0</td>\n      <td>18.370914</td>\n    </tr>\n    <tr>\n      <th>3</th>\n      <td>2.0</td>\n      <td>1.0</td>\n      <td>2022.0</td>\n      <td>5.0</td>\n      <td>0.0</td>\n      <td>18.379597</td>\n    </tr>\n    <tr>\n      <th>4</th>\n      <td>2.0</td>\n      <td>1.0</td>\n      <td>2022.0</td>\n      <td>6.0</td>\n      <td>0.0</td>\n      <td>18.387571</td>\n    </tr>\n  </tbody>\n</table>\n</div>"
     },
     "execution_count": 173,
     "metadata": {},
     "output_type": "execute_result"
    }
   ],
   "source": [
    "X_test = new_df.astype('float32')\n",
    "X_test.head()"
   ],
   "metadata": {
    "collapsed": false,
    "pycharm": {
     "name": "#%%\n"
    }
   }
  },
  {
   "cell_type": "code",
   "execution_count": 175,
   "outputs": [
    {
     "data": {
      "text/plain": "   day  month  year  hour  minute    Temp_IN\n0    1      1  2018     0       0  14.412768\n1   31     12  2021    23       0  31.387367",
      "text/html": "<div>\n<style scoped>\n    .dataframe tbody tr th:only-of-type {\n        vertical-align: middle;\n    }\n\n    .dataframe tbody tr th {\n        vertical-align: top;\n    }\n\n    .dataframe thead th {\n        text-align: right;\n    }\n</style>\n<table border=\"1\" class=\"dataframe\">\n  <thead>\n    <tr style=\"text-align: right;\">\n      <th></th>\n      <th>day</th>\n      <th>month</th>\n      <th>year</th>\n      <th>hour</th>\n      <th>minute</th>\n      <th>Temp_IN</th>\n    </tr>\n  </thead>\n  <tbody>\n    <tr>\n      <th>0</th>\n      <td>1</td>\n      <td>1</td>\n      <td>2018</td>\n      <td>0</td>\n      <td>0</td>\n      <td>14.412768</td>\n    </tr>\n    <tr>\n      <th>1</th>\n      <td>31</td>\n      <td>12</td>\n      <td>2021</td>\n      <td>23</td>\n      <td>0</td>\n      <td>31.387367</td>\n    </tr>\n  </tbody>\n</table>\n</div>"
     },
     "execution_count": 175,
     "metadata": {},
     "output_type": "execute_result"
    }
   ],
   "source": [
    "minmax = pd.DataFrame()\n",
    "minmax['day'] = [1,31]\n",
    "minmax['month'] = [1,12]\n",
    "minmax['year'] = [2018,2021]\n",
    "minmax['hour'] = [0,23]\n",
    "minmax['minute'] = [0,0]\n",
    "minmax['Temp_IN'] = [14.412768,31.387367]\n",
    "minmax.head()"
   ],
   "metadata": {
    "collapsed": false,
    "pycharm": {
     "name": "#%%\n"
    }
   }
  },
  {
   "cell_type": "code",
   "execution_count": 176,
   "outputs": [],
   "source": [
    "normalized_X_test=(X_test-minmax.min())/(minmax.max()-minmax.min())\n",
    "\n",
    "normalized_X_test.dropna(axis=1, inplace=True)"
   ],
   "metadata": {
    "collapsed": false,
    "pycharm": {
     "name": "#%%\n"
    }
   }
  },
  {
   "cell_type": "code",
   "execution_count": 177,
   "outputs": [
    {
     "data": {
      "text/plain": "        day  month      year      hour   Temp_IN\n0  0.033333    0.0  1.333333  0.086957  0.231643\n1  0.033333    0.0  1.333333  0.130435  0.232545\n2  0.033333    0.0  1.333333  0.173913  0.233181\n3  0.033333    0.0  1.333333  0.217391  0.233692\n4  0.033333    0.0  1.333333  0.260870  0.234162",
      "text/html": "<div>\n<style scoped>\n    .dataframe tbody tr th:only-of-type {\n        vertical-align: middle;\n    }\n\n    .dataframe tbody tr th {\n        vertical-align: top;\n    }\n\n    .dataframe thead th {\n        text-align: right;\n    }\n</style>\n<table border=\"1\" class=\"dataframe\">\n  <thead>\n    <tr style=\"text-align: right;\">\n      <th></th>\n      <th>day</th>\n      <th>month</th>\n      <th>year</th>\n      <th>hour</th>\n      <th>Temp_IN</th>\n    </tr>\n  </thead>\n  <tbody>\n    <tr>\n      <th>0</th>\n      <td>0.033333</td>\n      <td>0.0</td>\n      <td>1.333333</td>\n      <td>0.086957</td>\n      <td>0.231643</td>\n    </tr>\n    <tr>\n      <th>1</th>\n      <td>0.033333</td>\n      <td>0.0</td>\n      <td>1.333333</td>\n      <td>0.130435</td>\n      <td>0.232545</td>\n    </tr>\n    <tr>\n      <th>2</th>\n      <td>0.033333</td>\n      <td>0.0</td>\n      <td>1.333333</td>\n      <td>0.173913</td>\n      <td>0.233181</td>\n    </tr>\n    <tr>\n      <th>3</th>\n      <td>0.033333</td>\n      <td>0.0</td>\n      <td>1.333333</td>\n      <td>0.217391</td>\n      <td>0.233692</td>\n    </tr>\n    <tr>\n      <th>4</th>\n      <td>0.033333</td>\n      <td>0.0</td>\n      <td>1.333333</td>\n      <td>0.260870</td>\n      <td>0.234162</td>\n    </tr>\n  </tbody>\n</table>\n</div>"
     },
     "execution_count": 177,
     "metadata": {},
     "output_type": "execute_result"
    }
   ],
   "source": [
    "normalized_X_test.head()"
   ],
   "metadata": {
    "collapsed": false,
    "pycharm": {
     "name": "#%%\n"
    }
   }
  },
  {
   "cell_type": "code",
   "execution_count": 178,
   "outputs": [
    {
     "name": "stdout",
     "output_type": "stream",
     "text": [
      "23\n"
     ]
    }
   ],
   "source": [
    "testX = []\n",
    "for t in range(past_hours\n",
    "        , len(normalized_X_test.index)-next_hours, next_hours):\n",
    "    print(t)\n",
    "    testX.append(normalized_X_test.values[t-past_hours\n",
    "                                          :t, :])\n",
    "\n",
    "testX = np.array(testX)"
   ],
   "metadata": {
    "collapsed": false,
    "pycharm": {
     "name": "#%%\n"
    }
   }
  },
  {
   "cell_type": "code",
   "execution_count": 179,
   "outputs": [
    {
     "name": "stdout",
     "output_type": "stream",
     "text": [
      "Model: \"sequential_6\"\n",
      "_________________________________________________________________\n",
      " Layer (type)                Output Shape              Param #   \n",
      "=================================================================\n",
      " reshape_10 (Reshape)        (None, 23, 5, 1)          0         \n",
      "                                                                 \n",
      " conv2d_10 (Conv2D)          (None, 22, 5, 64)         192       \n",
      "                                                                 \n",
      " max_pooling2d_10 (MaxPoolin  (None, 21, 5, 64)        0         \n",
      " g2D)                                                            \n",
      "                                                                 \n",
      " conv2d_11 (Conv2D)          (None, 20, 5, 64)         8256      \n",
      "                                                                 \n",
      " max_pooling2d_11 (MaxPoolin  (None, 19, 5, 64)        0         \n",
      " g2D)                                                            \n",
      "                                                                 \n",
      " time_distributed_5 (TimeDis  (None, 19, 320)          0         \n",
      " tributed)                                                       \n",
      "                                                                 \n",
      " lstm_5 (LSTM)               (None, 64)                98560     \n",
      "                                                                 \n",
      " dense_10 (Dense)            (None, 32)                2080      \n",
      "                                                                 \n",
      " dense_11 (Dense)            (None, 1)                 33        \n",
      "                                                                 \n",
      " re_lu_5 (ReLU)              (None, 1)                 0         \n",
      "                                                                 \n",
      " reshape_11 (Reshape)        (None, 1, 1)              0         \n",
      "                                                                 \n",
      "=================================================================\n",
      "Total params: 109,121\n",
      "Trainable params: 109,121\n",
      "Non-trainable params: 0\n",
      "_________________________________________________________________\n",
      "None\n"
     ]
    }
   ],
   "source": [
    "model = Sequential()\n",
    "model.add(Reshape((past_hours\n",
    "                   , normalized_X_test.shape[1], 1), input_shape=(past_hours\n",
    "                                                                   , normalized_X_test.shape[1])))\n",
    "model.add(Conv2D(filters=64, kernel_size=(2,1), strides=1, padding='valid', activation='relu'))\n",
    "model.add(MaxPooling2D(pool_size=(2,1), strides=(1,1)))\n",
    "model.add(Conv2D(filters=64, kernel_size=(2,1), strides=1, padding='valid', activation='relu'))\n",
    "model.add(MaxPooling2D(pool_size=(2,1), strides=(1,1)))\n",
    "model.add(TimeDistributed(Flatten()))\n",
    "model.add(LSTM(64, activation='tanh'))\n",
    "model.add(Dense(32))\n",
    "model.add(Dense(next_hours * len(regressands)))\n",
    "model.add(ReLU())\n",
    "model.add(Reshape((next_hours, len(regressands))))\n",
    "\n",
    "\n",
    "model.compile(loss='mse', optimizer='adam', metrics='mean_absolute_error')\n",
    "print(model.summary())"
   ],
   "metadata": {
    "collapsed": false,
    "pycharm": {
     "name": "#%%\n"
    }
   }
  },
  {
   "cell_type": "code",
   "execution_count": 187,
   "outputs": [
    {
     "name": "stdout",
     "output_type": "stream",
     "text": [
      "1/1 [==============================] - 0s 16ms/step\n",
      "17.912838304705442\n",
      "[[17.912838]]\n",
      "MAE (Temp_IN):  0.3628\n",
      "RMSE (Temp_IN):  0.3628\n"
     ]
    },
    {
     "data": {
      "text/plain": "<Figure size 1296x720 with 1 Axes>",
      "image/png": "[encoded data removed]"
     },
     "metadata": {
      "needs_background": "light"
     },
     "output_type": "display_data"
    }
   ],
   "source": [
    "model.load_weights(f'Temp_IN/cnn_lstm.h5')\n",
    "final_pred = {}\n",
    "\n",
    "out = model.predict(testX)\n",
    "\n",
    "# print(out.shape())\n",
    "print(out[0,0,0] * (minmax['Temp_IN'].max() - minmax['Temp_IN'].min()) + minmax['Temp_IN'].min())\n",
    "\n",
    "for i, reg in enumerate(regressands):\n",
    "    temp = out[:, :, i] * (minmax['Temp_IN'].max() - minmax['Temp_IN'].min()) + minmax['Temp_IN'].min()\n",
    "    print(temp)\n",
    "    # temp = out[:, :, i] * y_train_std[i]\n",
    "    final_pred[reg] = temp.reshape((testX.shape[0]*next_hours))\n",
    "    err = (abs(X_test.values[past_hours\n",
    "                             :past_hours\n",
    "                              +len(final_pred[reg]), -len(regressands)+i]-final_pred[reg])).mean()\n",
    "    rmse = math.sqrt(((X_test.values[past_hours\n",
    "                                     :past_hours\n",
    "                                      +len(final_pred[reg]), -len(regressands)+i]-final_pred[reg])**2).mean())\n",
    "    print(f'MAE ({regressands[0].split(\":\")[0]}): ', round(err, 4))\n",
    "    print(f'RMSE ({regressands[0].split(\":\")[0]}): ', round(rmse, 4))\n",
    "\n",
    "    fig = plt.figure(figsize=(18,10))\n",
    "    plt.title(reg)\n",
    "    plt.plot(X_test.values[past_hours\n",
    "                           :past_hours\n",
    "                            +len(final_pred[reg]), 4+len(regressands)+i], label='original')\n",
    "    plt.plot(final_pred[reg], label=f'prediction')\n",
    "    plt.ylabel(f'Temp_IN [kWh]')\n",
    "    plt.xlabel('Time steps (10 minutes resolution)')\n",
    "    plt.title(f'Temp_IN for the year 2021')\n",
    "    plt.legend()\n",
    "    plt.show()"
   ],
   "metadata": {
    "collapsed": false,
    "pycharm": {
     "name": "#%%\n"
    }
   }
  },
  {
   "cell_type": "code",
   "execution_count": 163,
   "outputs": [],
   "source": [],
   "metadata": {
    "collapsed": false,
    "pycharm": {
     "name": "#%%\n"
    }
   }
  },
  {
   "cell_type": "code",
   "execution_count": 164,
   "outputs": [
    {
     "data": {
      "text/plain": "<Figure size 1296x720 with 1 Axes>",
      "image/png": "[encoded data removed]"
     },
     "metadata": {
      "needs_background": "light"
     },
     "output_type": "display_data"
    }
   ],
   "source": [
    "for i, reg in enumerate(regressands):\n",
    "    fig = plt.figure(figsize=(18,10))\n",
    "    plt.title(reg)\n",
    "    plt.plot(X_test.values[:, 4+len(regressands)+i], label='original')\n",
    "    plt.plot(final_pred[reg][:], label=f'prediction')\n",
    "    plt.ylabel(f'Temp_IN [kWh]')\n",
    "    plt.xlabel('Time steps (10 minutes resolution)')\n",
    "    plt.title(f'Temp_IN for July 2021')\n",
    "    plt.legend()\n",
    "    plt.show()"
   ],
   "metadata": {
    "collapsed": false,
    "pycharm": {
     "name": "#%%\n"
    }
   }
  },
  {
   "cell_type": "code",
   "execution_count": null,
   "outputs": [],
   "source": [],
   "metadata": {
    "collapsed": false,
    "pycharm": {
     "name": "#%%\n"
    }
   }
  }
 ],
 "metadata": {
  "kernelspec": {
   "display_name": "Python 3",
   "language": "python",
   "name": "python3"
  },
  "language_info": {
   "codemirror_mode": {
    "name": "ipython",
    "version": 2
   },
   "file_extension": ".py",
   "mimetype": "text/x-python",
   "name": "python",
   "nbconvert_exporter": "python",
   "pygments_lexer": "ipython2",
   "version": "2.7.6"
  }
 },
 "nbformat": 4,
 "nbformat_minor": 0
}